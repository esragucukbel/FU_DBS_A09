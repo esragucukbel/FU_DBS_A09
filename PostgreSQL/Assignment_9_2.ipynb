{
  "nbformat": 4,
  "nbformat_minor": 0,
  "metadata": {
    "colab": {
      "name": "Assignment 9.ipynb",
      "provenance": [],
      "collapsed_sections": []
    },
    "kernelspec": {
      "name": "python3",
      "display_name": "Python 3"
    },
    "language_info": {
      "name": "python"
    }
  },
  "cells": [
    {
      "cell_type": "markdown",
      "metadata": {
        "id": "HZICj11NzMff"
      },
      "source": [
        "**Group members:** Ali Omarov, Simon Ruber, Esra Gücükbel"
      ]
    },
    {
      "cell_type": "markdown",
      "metadata": {
        "id": "Nrq_CBX_Nmiq"
      },
      "source": [
        "## Exercise 2"
      ]
    },
    {
      "cell_type": "markdown",
      "metadata": {
        "id": "WXVt5-BEcouz"
      },
      "source": [
        "### a) Write a program in a programming language of your choice that connects to a Postgresql database and retrieves and displays data from it.\n"
      ]
    },
    {
      "cell_type": "code",
      "metadata": {
        "id": "szvvaiyGNtO5"
      },
      "source": [
        "import numpy as np\n",
        "import pandas as pd\n",
        "import matplotlib.pyplot as plt\n",
        "import csv\n",
        "import datetime"
      ],
      "execution_count": 1,
      "outputs": []
    },
    {
      "cell_type": "code",
      "metadata": {
        "colab": {
          "base_uri": "https://localhost:8080/"
        },
        "id": "UGpixph0NkI2",
        "outputId": "cc89a963-cafc-4dc8-fd1d-704e060540df"
      },
      "source": [
        "# install and import library for postgresql connection\n",
        "# pip install psycopg2\n",
        "import psycopg2"
      ],
      "execution_count": 2,
      "outputs": [
        {
          "output_type": "stream",
          "text": [
            "/usr/local/lib/python3.7/dist-packages/psycopg2/__init__.py:144: UserWarning: The psycopg2 wheel package will be renamed from release 2.8; in order to keep installing from binary please use \"pip install psycopg2-binary\" instead. For details see: <http://initd.org/psycopg/docs/install.html#binary-install-from-pypi>.\n",
            "  \"\"\")\n"
          ],
          "name": "stderr"
        }
      ]
    },
    {
      "cell_type": "code",
      "metadata": {
        "colab": {
          "base_uri": "https://localhost:8080/"
        },
        "id": "9xarF8KeOCnY",
        "outputId": "6bf84093-89cb-447e-c201-1d141ebf1d57"
      },
      "source": [
        "from google.colab import drive\n",
        "drive.mount('/content/drive')"
      ],
      "execution_count": 3,
      "outputs": [
        {
          "output_type": "stream",
          "text": [
            "Mounted at /content/drive\n"
          ],
          "name": "stdout"
        }
      ]
    },
    {
      "cell_type": "code",
      "metadata": {
        "colab": {
          "base_uri": "https://localhost:8080/"
        },
        "id": "--7WZ8LTOo9o",
        "outputId": "2e680ee9-15ec-4c04-903c-45d5ccb6466e"
      },
      "source": [
        "# Install postgresql server\n",
        "!sudo apt-get -y -qq update\n",
        "!sudo apt-get -y -qq install postgresql\n",
        "!sudo service postgresql start\n",
        "\n",
        "# Setup a password `postgres` for username `postgres`\n",
        "!sudo -u postgres psql -U postgres -c \"ALTER USER postgres PASSWORD 'postgres';\"\n",
        "\n",
        "# Setup a database with name `apple_db` to be used\n",
        "!sudo -u postgres psql -U postgres -c 'DROP DATABASE IF EXISTS apple_db;'\n",
        "!sudo -u postgres psql -U postgres -c 'CREATE DATABASE apple_db;'"
      ],
      "execution_count": 4,
      "outputs": [
        {
          "output_type": "stream",
          "text": [
            "debconf: unable to initialize frontend: Dialog\n",
            "debconf: (No usable dialog-like program is installed, so the dialog based frontend cannot be used. at /usr/share/perl5/Debconf/FrontEnd/Dialog.pm line 76, <> line 10.)\n",
            "debconf: falling back to frontend: Readline\n",
            "debconf: unable to initialize frontend: Readline\n",
            "debconf: (This frontend requires a controlling tty.)\n",
            "debconf: falling back to frontend: Teletype\n",
            "dpkg-preconfigure: unable to re-open stdin: \n",
            "Selecting previously unselected package cron.\n",
            "(Reading database ... 160772 files and directories currently installed.)\n",
            "Preparing to unpack .../0-cron_3.0pl1-128.1ubuntu1_amd64.deb ...\n",
            "Unpacking cron (3.0pl1-128.1ubuntu1) ...\n",
            "Selecting previously unselected package logrotate.\n",
            "Preparing to unpack .../1-logrotate_3.11.0-0.1ubuntu1_amd64.deb ...\n",
            "Unpacking logrotate (3.11.0-0.1ubuntu1) ...\n",
            "Selecting previously unselected package netbase.\n",
            "Preparing to unpack .../2-netbase_5.4_all.deb ...\n",
            "Unpacking netbase (5.4) ...\n",
            "Selecting previously unselected package postgresql-client-common.\n",
            "Preparing to unpack .../3-postgresql-client-common_190ubuntu0.1_all.deb ...\n",
            "Unpacking postgresql-client-common (190ubuntu0.1) ...\n",
            "Selecting previously unselected package postgresql-client-10.\n",
            "Preparing to unpack .../4-postgresql-client-10_10.17-0ubuntu0.18.04.1_amd64.deb ...\n",
            "Unpacking postgresql-client-10 (10.17-0ubuntu0.18.04.1) ...\n",
            "Selecting previously unselected package ssl-cert.\n",
            "Preparing to unpack .../5-ssl-cert_1.0.39_all.deb ...\n",
            "Unpacking ssl-cert (1.0.39) ...\n",
            "Selecting previously unselected package postgresql-common.\n",
            "Preparing to unpack .../6-postgresql-common_190ubuntu0.1_all.deb ...\n",
            "Adding 'diversion of /usr/bin/pg_config to /usr/bin/pg_config.libpq-dev by postgresql-common'\n",
            "Unpacking postgresql-common (190ubuntu0.1) ...\n",
            "Selecting previously unselected package postgresql-10.\n",
            "Preparing to unpack .../7-postgresql-10_10.17-0ubuntu0.18.04.1_amd64.deb ...\n",
            "Unpacking postgresql-10 (10.17-0ubuntu0.18.04.1) ...\n",
            "Selecting previously unselected package postgresql.\n",
            "Preparing to unpack .../8-postgresql_10+190ubuntu0.1_all.deb ...\n",
            "Unpacking postgresql (10+190ubuntu0.1) ...\n",
            "Selecting previously unselected package sysstat.\n",
            "Preparing to unpack .../9-sysstat_11.6.1-1ubuntu0.1_amd64.deb ...\n",
            "Unpacking sysstat (11.6.1-1ubuntu0.1) ...\n",
            "Setting up sysstat (11.6.1-1ubuntu0.1) ...\n",
            "debconf: unable to initialize frontend: Dialog\n",
            "debconf: (No usable dialog-like program is installed, so the dialog based frontend cannot be used. at /usr/share/perl5/Debconf/FrontEnd/Dialog.pm line 76.)\n",
            "debconf: falling back to frontend: Readline\n",
            "\n",
            "Creating config file /etc/default/sysstat with new version\n",
            "update-alternatives: using /usr/bin/sar.sysstat to provide /usr/bin/sar (sar) in auto mode\n",
            "Created symlink /etc/systemd/system/multi-user.target.wants/sysstat.service → /lib/systemd/system/sysstat.service.\n",
            "Setting up ssl-cert (1.0.39) ...\n",
            "debconf: unable to initialize frontend: Dialog\n",
            "debconf: (No usable dialog-like program is installed, so the dialog based frontend cannot be used. at /usr/share/perl5/Debconf/FrontEnd/Dialog.pm line 76.)\n",
            "debconf: falling back to frontend: Readline\n",
            "Setting up cron (3.0pl1-128.1ubuntu1) ...\n",
            "Adding group `crontab' (GID 110) ...\n",
            "Done.\n",
            "Created symlink /etc/systemd/system/multi-user.target.wants/cron.service → /lib/systemd/system/cron.service.\n",
            "update-rc.d: warning: start and stop actions are no longer supported; falling back to defaults\n",
            "invoke-rc.d: could not determine current runlevel\n",
            "invoke-rc.d: policy-rc.d denied execution of start.\n",
            "Setting up logrotate (3.11.0-0.1ubuntu1) ...\n",
            "Setting up netbase (5.4) ...\n",
            "Setting up postgresql-client-common (190ubuntu0.1) ...\n",
            "Setting up postgresql-common (190ubuntu0.1) ...\n",
            "debconf: unable to initialize frontend: Dialog\n",
            "debconf: (No usable dialog-like program is installed, so the dialog based frontend cannot be used. at /usr/share/perl5/Debconf/FrontEnd/Dialog.pm line 76.)\n",
            "debconf: falling back to frontend: Readline\n",
            "Adding user postgres to group ssl-cert\n",
            "\n",
            "Creating config file /etc/postgresql-common/createcluster.conf with new version\n",
            "Building PostgreSQL dictionaries from installed myspell/hunspell packages...\n",
            "Removing obsolete dictionary files:\n",
            "Created symlink /etc/systemd/system/multi-user.target.wants/postgresql.service → /lib/systemd/system/postgresql.service.\n",
            "invoke-rc.d: could not determine current runlevel\n",
            "invoke-rc.d: policy-rc.d denied execution of start.\n",
            "Setting up postgresql-client-10 (10.17-0ubuntu0.18.04.1) ...\n",
            "update-alternatives: using /usr/share/postgresql/10/man/man1/psql.1.gz to provide /usr/share/man/man1/psql.1.gz (psql.1.gz) in auto mode\n",
            "Setting up postgresql-10 (10.17-0ubuntu0.18.04.1) ...\n",
            "debconf: unable to initialize frontend: Dialog\n",
            "debconf: (No usable dialog-like program is installed, so the dialog based frontend cannot be used. at /usr/share/perl5/Debconf/FrontEnd/Dialog.pm line 76.)\n",
            "debconf: falling back to frontend: Readline\n",
            "Creating new PostgreSQL cluster 10/main ...\n",
            "/usr/lib/postgresql/10/bin/initdb -D /var/lib/postgresql/10/main --auth-local peer --auth-host md5\n",
            "The files belonging to this database system will be owned by user \"postgres\".\n",
            "This user must also own the server process.\n",
            "\n",
            "The database cluster will be initialized with locale \"en_US.UTF-8\".\n",
            "The default database encoding has accordingly been set to \"UTF8\".\n",
            "The default text search configuration will be set to \"english\".\n",
            "\n",
            "Data page checksums are disabled.\n",
            "\n",
            "fixing permissions on existing directory /var/lib/postgresql/10/main ... ok\n",
            "creating subdirectories ... ok\n",
            "selecting default max_connections ... 100\n",
            "selecting default shared_buffers ... 128MB\n",
            "selecting default timezone ... Etc/UTC\n",
            "selecting dynamic shared memory implementation ... posix\n",
            "creating configuration files ... ok\n",
            "running bootstrap script ... ok\n",
            "performing post-bootstrap initialization ... ok\n",
            "syncing data to disk ... ok\n",
            "\n",
            "Success. You can now start the database server using:\n",
            "\n",
            "    /usr/lib/postgresql/10/bin/pg_ctl -D /var/lib/postgresql/10/main -l logfile start\n",
            "\n",
            "Ver Cluster Port Status Owner    Data directory              Log file\n",
            "\u001b[31m10  main    5432 down   postgres /var/lib/postgresql/10/main /var/log/postgresql/postgresql-10-main.log\u001b[0m\n",
            "update-alternatives: using /usr/share/postgresql/10/man/man1/postmaster.1.gz to provide /usr/share/man/man1/postmaster.1.gz (postmaster.1.gz) in auto mode\n",
            "invoke-rc.d: could not determine current runlevel\n",
            "invoke-rc.d: policy-rc.d denied execution of start.\n",
            "Setting up postgresql (10+190ubuntu0.1) ...\n",
            "Processing triggers for man-db (2.8.3-2ubuntu0.1) ...\n",
            "Processing triggers for systemd (237-3ubuntu10.47) ...\n",
            " * Starting PostgreSQL 10 database server\n",
            "   ...done.\n",
            "ALTER ROLE\n",
            "NOTICE:  database \"apple_db\" does not exist, skipping\n",
            "DROP DATABASE\n",
            "CREATE DATABASE\n"
          ],
          "name": "stdout"
        }
      ]
    },
    {
      "cell_type": "markdown",
      "metadata": {
        "id": "zsDGNJujO4R4"
      },
      "source": [
        "### Setup necessary environment variables"
      ]
    },
    {
      "cell_type": "code",
      "metadata": {
        "colab": {
          "base_uri": "https://localhost:8080/"
        },
        "id": "Vf5JJaj9O3n5",
        "outputId": "e91b8a95-68c0-4a57-c05f-64567acb065e"
      },
      "source": [
        "%env TFIO_DEMO_DATABASE_NAME=apple_db\n",
        "%env TFIO_DEMO_DATABASE_HOST=localhost\n",
        "%env TFIO_DEMO_DATABASE_PORT=5432\n",
        "%env TFIO_DEMO_DATABASE_USER=postgres\n",
        "%env TFIO_DEMO_DATABASE_PASS=postgres"
      ],
      "execution_count": 5,
      "outputs": [
        {
          "output_type": "stream",
          "text": [
            "env: TFIO_DEMO_DATABASE_NAME=apple_db\n",
            "env: TFIO_DEMO_DATABASE_HOST=localhost\n",
            "env: TFIO_DEMO_DATABASE_PORT=5432\n",
            "env: TFIO_DEMO_DATABASE_USER=postgres\n",
            "env: TFIO_DEMO_DATABASE_PASS=postgres\n"
          ],
          "name": "stdout"
        }
      ]
    },
    {
      "cell_type": "markdown",
      "metadata": {
        "id": "7DpR7UEWPEDJ"
      },
      "source": [
        "### Creating DB"
      ]
    },
    {
      "cell_type": "code",
      "metadata": {
        "id": "oBI7a9cdOSUy"
      },
      "source": [
        "# Starting connection\n",
        "connection_config = \"host=localhost port=5432 dbname=apple_db user=postgres password= postgres\"\n",
        "conn = psycopg2.connect(\"host=localhost port=5432 dbname=apple_db user=postgres password= postgres\")\n",
        "cur = conn.cursor()"
      ],
      "execution_count": 6,
      "outputs": []
    },
    {
      "cell_type": "code",
      "metadata": {
        "id": "mymY4anjat9L"
      },
      "source": [
        "cur.execute(\"\"\"DROP TABLE IF EXISTS STOCK \"\"\")\n",
        "cur.execute(\"\"\"CREATE TABLE STOCK (\n",
        "  Date DATE,\n",
        "  Low_Value REAL,\n",
        "  High_Value REAL,\n",
        "  Day_End_Value REAL,\n",
        "  Trade_Volume INT)\"\"\")\n",
        "conn.commit()"
      ],
      "execution_count": 7,
      "outputs": []
    },
    {
      "cell_type": "code",
      "metadata": {
        "id": "je3UF6GRTK-C"
      },
      "source": [
        "# In case problem occurs\n",
        "# cur.execute('ROLLBACK')\n",
        "# conn.commit()"
      ],
      "execution_count": 8,
      "outputs": []
    },
    {
      "cell_type": "code",
      "metadata": {
        "id": "cQ5TQKeiRBnJ"
      },
      "source": [
        "# We need to \"DBS Assignment 09\" folder as shortcut to our drives to work seamlessly.\n",
        "with open(\"/content/drive/MyDrive/DBS Assignment 09/apple.csv\", 'r') as f:\n",
        "    reader = csv.reader(f)\n",
        "    next(reader) # Skip the header row.\n",
        "    for row in reader:\n",
        "        row[0] = datetime.date(int('20'+row[0][6:8]),int(row[0][3:5]),int(row[0][0:2]))\n",
        "        cur.execute(\n",
        "        \"INSERT INTO STOCK VALUES (%s, %s, %s, %s, %s)\", row)\n",
        "conn.commit()"
      ],
      "execution_count": 9,
      "outputs": []
    },
    {
      "cell_type": "markdown",
      "metadata": {
        "id": "mDkpAIXFb-Eq"
      },
      "source": [
        "### b) Modify your program so that the data is changed by the program before it is displayed."
      ]
    },
    {
      "cell_type": "code",
      "metadata": {
        "id": "inHJ5t5cZN7y"
      },
      "source": [
        "def get_records(conn_config, sql_statement):\n",
        "    \"\"\" query data from the Stock table \"\"\"\n",
        "    conn = None\n",
        "    try:\n",
        "        conn =  psycopg2.connect(conn_config)\n",
        "        cur = conn.cursor()\n",
        "        cur.execute(sql_statement)\n",
        "        print(\"The number of records: \", cur.rowcount)\n",
        "        row = cur.fetchone()\n",
        "\n",
        "        while row is not None:\n",
        "            print(row)\n",
        "            row = cur.fetchone()\n",
        "\n",
        "        cur.close()\n",
        "    except (Exception, psycopg2.DatabaseError) as error:\n",
        "        print(error)\n",
        "    finally:\n",
        "        if conn is not None:\n",
        "            conn.close()"
      ],
      "execution_count": 10,
      "outputs": []
    },
    {
      "cell_type": "code",
      "metadata": {
        "colab": {
          "base_uri": "https://localhost:8080/"
        },
        "id": "Uzd3w2HSZYnB",
        "outputId": "5dc34b2b-77ad-49e8-ea53-570c7cb4f1f9"
      },
      "source": [
        "sql_get_all_records = \"SELECT * FROM STOCK\"\n",
        "get_records(connection_config, sql_get_all_records)"
      ],
      "execution_count": 11,
      "outputs": [
        {
          "output_type": "stream",
          "text": [
            "The number of records:  22\n",
            "(datetime.date(2017, 1, 2), 109.3, 110.8, 110.3, 2330417)\n",
            "(datetime.date(2017, 1, 3), 110.11, 112.09, 110.68, 882614)\n",
            "(datetime.date(2017, 1, 4), 110.53, 111.7, 111.03, 449615)\n",
            "(datetime.date(2017, 1, 5), 109.4, 110.73, 110.0, 746100)\n",
            "(datetime.date(2017, 1, 6), 109.8, 112.0, 111.61, 700163)\n",
            "(datetime.date(2017, 1, 9), 111.6, 113.1, 112.46, 1297576)\n",
            "(datetime.date(2017, 1, 10), 111.8, 112.9, 112.75, 1691504)\n",
            "(datetime.date(2017, 1, 11), 111.83, 113.86, 112.17, 1521071)\n",
            "(datetime.date(2017, 1, 12), 110.94, 112.6, 111.76, 1073743)\n",
            "(datetime.date(2017, 1, 13), 111.6, 112.5, 111.76, 1149538)\n",
            "(datetime.date(2017, 1, 16), 111.72, 112.45, 112.0, 861942)\n",
            "(datetime.date(2017, 1, 17), 110.0, 112.29, 112.08, 848050)\n",
            "(datetime.date(2017, 1, 18), 112.0, 112.7, 112.35, 528968)\n",
            "(datetime.date(2017, 1, 19), 111.99, 113.09, 112.71, 778900)\n",
            "(datetime.date(2017, 1, 20), 112.14, 113.1, 112.14, 610841)\n",
            "(datetime.date(2017, 1, 23), 111.04, 112.5, 111.74, 366744)\n",
            "(datetime.date(2017, 1, 24), 110.9, 111.73, 111.51, 734456)\n",
            "(datetime.date(2017, 1, 25), 111.7, 113.65, 113.65, 1221101)\n",
            "(datetime.date(2017, 1, 26), 113.2, 114.38, 114.0, 1302214)\n",
            "(datetime.date(2017, 1, 27), 113.7, 114.46, 114.03, 739897)\n",
            "(datetime.date(2017, 1, 30), 112.9, 113.99, 113.35, 1268146)\n",
            "(datetime.date(2017, 1, 31), 111.78, 113.5, 111.91, 988174)\n"
          ],
          "name": "stdout"
        }
      ]
    },
    {
      "cell_type": "code",
      "metadata": {
        "colab": {
          "base_uri": "https://localhost:8080/"
        },
        "id": "vvWEqE0Jb9hK",
        "outputId": "17a40f44-ebb4-40ab-df9e-c9b77ee6b5a0"
      },
      "source": [
        "sql_get_low_higher_111_records = \"SELECT * FROM STOCK WHERE Low_Value > 111\"\n",
        "get_records(connection_config, sql_get_low_higher_111_records)"
      ],
      "execution_count": 12,
      "outputs": [
        {
          "output_type": "stream",
          "text": [
            "The number of records:  14\n",
            "(datetime.date(2017, 1, 9), 111.6, 113.1, 112.46, 1297576)\n",
            "(datetime.date(2017, 1, 10), 111.8, 112.9, 112.75, 1691504)\n",
            "(datetime.date(2017, 1, 11), 111.83, 113.86, 112.17, 1521071)\n",
            "(datetime.date(2017, 1, 13), 111.6, 112.5, 111.76, 1149538)\n",
            "(datetime.date(2017, 1, 16), 111.72, 112.45, 112.0, 861942)\n",
            "(datetime.date(2017, 1, 18), 112.0, 112.7, 112.35, 528968)\n",
            "(datetime.date(2017, 1, 19), 111.99, 113.09, 112.71, 778900)\n",
            "(datetime.date(2017, 1, 20), 112.14, 113.1, 112.14, 610841)\n",
            "(datetime.date(2017, 1, 23), 111.04, 112.5, 111.74, 366744)\n",
            "(datetime.date(2017, 1, 25), 111.7, 113.65, 113.65, 1221101)\n",
            "(datetime.date(2017, 1, 26), 113.2, 114.38, 114.0, 1302214)\n",
            "(datetime.date(2017, 1, 27), 113.7, 114.46, 114.03, 739897)\n",
            "(datetime.date(2017, 1, 30), 112.9, 113.99, 113.35, 1268146)\n",
            "(datetime.date(2017, 1, 31), 111.78, 113.5, 111.91, 988174)\n"
          ],
          "name": "stdout"
        }
      ]
    },
    {
      "cell_type": "code",
      "metadata": {
        "colab": {
          "base_uri": "https://localhost:8080/"
        },
        "id": "iANkld3vZEhB",
        "outputId": "8ebe2797-9f04-4b22-f310-b0f5765a3fe2"
      },
      "source": [
        "# Query with date\n",
        "sql_get_late_records = \"SELECT * FROM STOCK WHERE Date > '2017-01-17'; \"\n",
        "get_records(connection_config, sql_get_late_records)"
      ],
      "execution_count": 16,
      "outputs": [
        {
          "output_type": "stream",
          "text": [
            "The number of records:  10\n",
            "(datetime.date(2017, 1, 18), 112.0, 112.7, 112.35, 528968)\n",
            "(datetime.date(2017, 1, 19), 111.99, 113.09, 112.71, 778900)\n",
            "(datetime.date(2017, 1, 20), 112.14, 113.1, 112.14, 610841)\n",
            "(datetime.date(2017, 1, 23), 111.04, 112.5, 111.74, 366744)\n",
            "(datetime.date(2017, 1, 24), 110.9, 111.73, 111.51, 734456)\n",
            "(datetime.date(2017, 1, 25), 111.7, 113.65, 113.65, 1221101)\n",
            "(datetime.date(2017, 1, 26), 113.2, 114.38, 114.0, 1302214)\n",
            "(datetime.date(2017, 1, 27), 113.7, 114.46, 114.03, 739897)\n",
            "(datetime.date(2017, 1, 30), 112.9, 113.99, 113.35, 1268146)\n",
            "(datetime.date(2017, 1, 31), 111.78, 113.5, 111.91, 988174)\n"
          ],
          "name": "stdout"
        }
      ]
    }
  ]
}